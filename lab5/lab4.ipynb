{
 "cells": [
  {
   "cell_type": "code",
   "execution_count": 1,
   "metadata": {},
   "outputs": [],
   "source": [
    "import numpy as np\n",
    "import pandas as pd\n",
    "from sklearn.model_selection import train_test_split"
   ]
  },
  {
   "cell_type": "code",
   "execution_count": 25,
   "metadata": {},
   "outputs": [
    {
     "data": {
      "text/plain": [
       "2938"
      ]
     },
     "execution_count": 25,
     "metadata": {},
     "output_type": "execute_result"
    }
   ],
   "source": [
    "df = pd.read_csv('wines.csv', delimiter=';')\n",
    "train_df, test_df = train_test_split(df, test_size=0.4, random_state=1)\n",
    "Y = train_df['quality'].to_numpy()\n",
    "# np.zeros_like(Y).shape[0]\n",
    "# train_df.drop(columns='quality').to_numpy().T.shape\n",
    "a = [1,2,3,4,5,6]"
   ]
  }
 ],
 "metadata": {
  "interpreter": {
   "hash": "68f3952b4e0dde4425e987f6ecbdce8b5924b32f0c3c87d1c1be08c8a9dabcb5"
  },
  "kernelspec": {
   "display_name": "Python 3.9.7 64-bit ('base': conda)",
   "language": "python",
   "name": "python3"
  },
  "language_info": {
   "codemirror_mode": {
    "name": "ipython",
    "version": 3
   },
   "file_extension": ".py",
   "mimetype": "text/x-python",
   "name": "python",
   "nbconvert_exporter": "python",
   "pygments_lexer": "ipython3",
   "version": "3.9.7"
  },
  "orig_nbformat": 4
 },
 "nbformat": 4,
 "nbformat_minor": 2
}
