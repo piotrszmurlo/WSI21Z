{
 "cells": [
  {
   "cell_type": "code",
   "execution_count": 3,
   "metadata": {},
   "outputs": [],
   "source": [
    "import numpy as np\n",
    "from math import exp\n",
    "import pandas as pd\n",
    "from pprint import pprint\n",
    "from sklearn.model_selection import train_test_split\n",
    "import seaborn as sns"
   ]
  },
  {
   "cell_type": "code",
   "execution_count": 73,
   "metadata": {},
   "outputs": [
    {
     "data": {
      "image/png": "[encoded data removed]",
      "text/plain": [
       "<Figure size 432x288 with 1 Axes>"
      ]
     },
     "metadata": {
      "needs_background": "light"
     },
     "output_type": "display_data"
    }
   ],
   "source": [
    "import matplotlib.pyplot as plt\n",
    "df = pd.read_csv('whitewine.csv', delimiter=';')\n",
    "quality_data = df['quality'].to_numpy()\n",
    "n, bins, patches = plt.hist(quality_data, 7, density=True)\n",
    "plt.xlim(0, 10)\n",
    "plt.show()\n"
   ]
  },
  {
   "cell_type": "code",
   "execution_count": 74,
   "metadata": {},
   "outputs": [
    {
     "data": {
      "text/plain": [
       "<AxesSubplot:>"
      ]
     },
     "execution_count": 74,
     "metadata": {},
     "output_type": "execute_result"
    },
    {
     "data": {
      "image/png": "[encoded data removed]",
      "text/plain": [
       "<Figure size 432x288 with 2 Axes>"
      ]
     },
     "metadata": {
      "needs_background": "light"
     },
     "output_type": "display_data"
    }
   ],
   "source": [
    "corr = df.iloc[:,:-1].corr(method='pearson')\n",
    "\n",
    "cmap = sns.diverging_palette(250,354,80,60,center='dark', as_cmap=True)\n",
    "sns.heatmap(corr, vmax=1, vmin=-0.5, cmap=cmap, square=True, linewidths=0.2)"
   ]
  },
  {
   "cell_type": "code",
   "execution_count": 75,
   "metadata": {},
   "outputs": [],
   "source": [
    "def calculate_p_y(df):\n",
    "    quality_list = list(range(0,11))\n",
    "    p_quality = []\n",
    "    row_count = len(df)\n",
    "    for quality in quality_list:\n",
    "        if quality in (0,1,2,10):\n",
    "            p_quality.append(0)\n",
    "        else:\n",
    "            p_quality.append(len(df[df['quality'] == quality])/row_count)\n",
    "    return p_quality"
   ]
  },
  {
   "cell_type": "code",
   "execution_count": 14,
   "metadata": {},
   "outputs": [],
   "source": [
    "\n",
    "def calculate_p_attr_y(attr_value, mean, var):\n",
    "    p_attr_y = exp((-(attr_value - mean)**2)/(2*var))/(np.sqrt(2*np.pi*var))\n",
    "    return p_attr_y"
   ]
  },
  {
   "cell_type": "code",
   "execution_count": 17,
   "metadata": {},
   "outputs": [],
   "source": [
    "def naive_bayes_classifier(df, test_samples):\n",
    "    attributes = list(df.columns)[:-1]\n",
    "    p_quality = calculate_p_y(df)\n",
    "    quality_pred = []\n",
    "    quality_list = list(range(0,11))\n",
    "    df_mean = train_df.groupby(['quality']).mean()\n",
    "    df_var = train_df.groupby(['quality']).var()\n",
    "    for sample in test_samples:\n",
    "        p_attr_y_list = [1]*11\n",
    "        for quality in quality_list:\n",
    "            for attr in range(len(attributes)):\n",
    "                if quality in (0,1,2,10):\n",
    "                    p_attr_y_list[quality] = 0\n",
    "                else:\n",
    "                    p_attr_y_list[quality] *= calculate_p_attr_y(sample[attr], df_mean.loc[quality][attributes[attr]], df_var.loc[quality][attributes[attr]])\n",
    "        post_prob = [1]*11\n",
    "        for quality in quality_list:\n",
    "            post_prob[quality] = p_attr_y_list[quality] * p_quality[quality]\n",
    "        quality_pred.append(np.argmax(post_prob))\n",
    "    return np.array(quality_pred)"
   ]
  },
  {
   "cell_type": "code",
   "execution_count": 78,
   "metadata": {},
   "outputs": [
    {
     "name": "stdout",
     "output_type": "stream",
     "text": [
      "[[  1   0   1   2   0   0   0]\n",
      " [  0  12  11  26   6   0   0]\n",
      " [  3  23 260 273  46   1   0]\n",
      " [  4  17 168 405 256   2   1]\n",
      " [  0   0  19 107 243   1   3]\n",
      " [  0   1   1  16  46   4   0]\n",
      " [  0   0   0   1   0   0   0]]\n",
      "0.4719387755102041\n",
      "Number of mislabeled points out of a total 1960 points : 1035\n"
     ]
    }
   ],
   "source": [
    "from sklearn.model_selection import train_test_split\n",
    "from sklearn.metrics import confusion_matrix, f1_score\n",
    "df = pd.read_csv('whitewine.csv', delimiter=';')\n",
    "df = df.drop(columns='density')\n",
    "train_df, test_df = train_test_split(df, test_size=0.4, random_state=1)\n",
    "X_test = test_df.iloc[:,:-1].values\n",
    "Y_test = test_df.iloc[:, -1].values\n",
    "Y_pred = naive_bayes_classifier(train_df, X_test)\n",
    "print(confusion_matrix(Y_test, Y_pred))\n",
    "print(f1_score(Y_test, Y_pred, average='micro'))\n",
    "print(\"Number of mislabeled points out of a total %d points : %d\"\n",
    "      % (X_test.shape[0], (Y_test != Y_pred).sum()))"
   ]
  },
  {
   "cell_type": "code",
   "execution_count": 79,
   "metadata": {},
   "outputs": [
    {
     "name": "stdout",
     "output_type": "stream",
     "text": [
      "[0.4418367346938776, 0.4602040816326531, 0.45, 0.4586312563840654, 0.4606741573033708]\n",
      "0.4542692460027934\n"
     ]
    }
   ],
   "source": [
    "from sklearn.metrics import confusion_matrix, f1_score\n",
    "k = 5\n",
    "df = pd.read_csv('whitewine.csv', delimiter=';')\n",
    "df = df.drop(columns='density')\n",
    "df = df.sample(frac=1, random_state=2)\n",
    "split_dfs = np.array_split(df, k)\n",
    "scores=[]\n",
    "for i in range(0, k):\n",
    "    frames = split_dfs[0:i] + split_dfs[i + 1::]\n",
    "    train_df = pd.concat(frames)\n",
    "    test_df = split_dfs[i]\n",
    "    X_test = test_df.iloc[:,:-1].values\n",
    "    Y_test = test_df.iloc[:, -1].values\n",
    "    Y_pred = naive_bayes_classifier(train_df, X_test)\n",
    "    score = f1_score(Y_test, Y_pred, average='micro')\n",
    "    scores.append(score)\n",
    "print(scores)\n",
    "print(sum(scores)/k)\n"
   ]
  },
  {
   "cell_type": "code",
   "execution_count": 23,
   "metadata": {},
   "outputs": [
    {
     "name": "stdout",
     "output_type": "stream",
     "text": [
      "[[  1   0   1   2   0   0   0]\n",
      " [  0  13  16  20   6   0   0]\n",
      " [  3  25 306 217  54   1   0]\n",
      " [  4  16 209 341 278   3   2]\n",
      " [  0   0  34  83 248   2   6]\n",
      " [  0   0   5  12  45   5   1]\n",
      " [  0   0   0   1   0   0   0]]\n",
      "0.4663265306122449\n",
      "Number of mislabeled points out of a total 1960 points : 1046\n"
     ]
    }
   ],
   "source": [
    "from sklearn.datasets import load_iris\n",
    "from sklearn.model_selection import train_test_split\n",
    "from sklearn.naive_bayes import GaussianNB\n",
    "from sklearn.metrics import confusion_matrix, f1_score\n",
    "import numpy as np\n",
    "from math import exp\n",
    "import pandas as pd\n",
    "from pprint import pprint\n",
    "from sklearn.model_selection import train_test_split\n",
    "import seaborn as sns\n",
    "df = pd.read_csv('whitewine.csv', delimiter=';')\n",
    "train_df, test_df = train_test_split(df, test_size=0.4, random_state=1)\n",
    "X_test = test_df.iloc[:,:-1].values\n",
    "Y_test = test_df.iloc[:, -1].values\n",
    "X_train = train_df.iloc[:,:-1].values\n",
    "Y_train = train_df.iloc[:, -1].values\n",
    "gnb = GaussianNB()\n",
    "Y_pred = gnb.fit(X_train, Y_train).predict(X_test)\n",
    "print(confusion_matrix(Y_test, Y_pred))\n",
    "print(f1_score(Y_test, Y_pred, average='micro'))\n",
    "print(\"Number of mislabeled points out of a total %d points : %d\"\n",
    "      % (X_test.shape[0], (Y_test != Y_pred).sum()))"
   ]
  }
 ],
 "metadata": {
  "interpreter": {
   "hash": "68f3952b4e0dde4425e987f6ecbdce8b5924b32f0c3c87d1c1be08c8a9dabcb5"
  },
  "kernelspec": {
   "display_name": "Python 3.9.7 64-bit ('base': conda)",
   "language": "python",
   "name": "python3"
  },
  "language_info": {
   "codemirror_mode": {
    "name": "ipython",
    "version": 3
   },
   "file_extension": ".py",
   "mimetype": "text/x-python",
   "name": "python",
   "nbconvert_exporter": "python",
   "pygments_lexer": "ipython3",
   "version": "3.9.7"
  },
  "orig_nbformat": 4
 },
 "nbformat": 4,
 "nbformat_minor": 2
}
